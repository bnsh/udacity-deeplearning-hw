{
 "cells": [
  {
   "cell_type": "markdown",
   "metadata": {
    "collapsed": true
   },
   "source": [
    "# Language Translation\n",
    "In this project, you’re going to take a peek into the realm of neural network machine translation.  You’ll be training a sequence to sequence model on a dataset of English and French sentences that can translate new sentences from English to French.\n",
    "## Get the Data\n",
    "Since translating the whole language of English to French will take lots of time to train, we have provided you with a small portion of the English corpus."
   ]
  },
  {
   "cell_type": "code",
   "execution_count": 1,
   "metadata": {
    "collapsed": true
   },
   "outputs": [],
   "source": [
    "\"\"\"\n",
    "DON'T MODIFY ANYTHING IN THIS CELL\n",
    "\"\"\"\n",
    "import helper\n",
    "import problem_unittests as tests\n",
    "\n",
    "source_path = 'data/small_vocab_en'\n",
    "target_path = 'data/small_vocab_fr'\n",
    "source_text = helper.load_data(source_path)\n",
    "target_text = helper.load_data(target_path)"
   ]
  },
  {
   "cell_type": "markdown",
   "metadata": {},
   "source": [
    "## Explore the Data\n",
    "Play around with view_sentence_range to view different parts of the data."
   ]
  },
  {
   "cell_type": "code",
   "execution_count": 2,
   "metadata": {},
   "outputs": [
    {
     "name": "stdout",
     "output_type": "stream",
     "text": [
      "Dataset Stats\n",
      "Roughly the number of unique words: 227\n",
      "Number of sentences: 137861\n",
      "Average number of words in a sentence: 13.225277634719028\n",
      "\n",
      "English sentences 0 to 10:\n",
      "new jersey is sometimes quiet during autumn , and it is snowy in april .\n",
      "the united states is usually chilly during july , and it is usually freezing in november .\n",
      "california is usually quiet during march , and it is usually hot in june .\n",
      "the united states is sometimes mild during june , and it is cold in september .\n",
      "your least liked fruit is the grape , but my least liked is the apple .\n",
      "his favorite fruit is the orange , but my favorite is the grape .\n",
      "paris is relaxing during december , but it is usually chilly in july .\n",
      "new jersey is busy during spring , and it is never hot in march .\n",
      "our least liked fruit is the lemon , but my least liked is the grape .\n",
      "the united states is sometimes busy during january , and it is sometimes warm in november .\n",
      "\n",
      "French sentences 0 to 10:\n",
      "new jersey est parfois calme pendant l' automne , et il est neigeux en avril .\n",
      "les états-unis est généralement froid en juillet , et il gèle habituellement en novembre .\n",
      "california est généralement calme en mars , et il est généralement chaud en juin .\n",
      "les états-unis est parfois légère en juin , et il fait froid en septembre .\n",
      "votre moins aimé fruit est le raisin , mais mon moins aimé est la pomme .\n",
      "son fruit préféré est l'orange , mais mon préféré est le raisin .\n",
      "paris est relaxant en décembre , mais il est généralement froid en juillet .\n",
      "new jersey est occupé au printemps , et il est jamais chaude en mars .\n",
      "notre fruit est moins aimé le citron , mais mon moins aimé est le raisin .\n",
      "les états-unis est parfois occupé en janvier , et il est parfois chaud en novembre .\n"
     ]
    }
   ],
   "source": [
    "view_sentence_range = (0, 10)\n",
    "\n",
    "\"\"\"\n",
    "DON'T MODIFY ANYTHING IN THIS CELL\n",
    "\"\"\"\n",
    "import numpy as np\n",
    "\n",
    "print('Dataset Stats')\n",
    "print('Roughly the number of unique words: {}'.format(len({word: None for word in source_text.split()})))\n",
    "\n",
    "sentences = source_text.split('\\n')\n",
    "word_counts = [len(sentence.split()) for sentence in sentences]\n",
    "print('Number of sentences: {}'.format(len(sentences)))\n",
    "print('Average number of words in a sentence: {}'.format(np.average(word_counts)))\n",
    "\n",
    "print()\n",
    "print('English sentences {} to {}:'.format(*view_sentence_range))\n",
    "print('\\n'.join(source_text.split('\\n')[view_sentence_range[0]:view_sentence_range[1]]))\n",
    "print()\n",
    "print('French sentences {} to {}:'.format(*view_sentence_range))\n",
    "print('\\n'.join(target_text.split('\\n')[view_sentence_range[0]:view_sentence_range[1]]))"
   ]
  },
  {
   "cell_type": "markdown",
   "metadata": {},
   "source": [
    "## Implement Preprocessing Function\n",
    "### Text to Word Ids\n",
    "As you did with other RNNs, you must turn the text into a number so the computer can understand it. In the function `text_to_ids()`, you'll turn `source_text` and `target_text` from words to ids.  However, you need to add the `<EOS>` word id at the end of `target_text`.  This will help the neural network predict when the sentence should end.\n",
    "\n",
    "You can get the `<EOS>` word id by doing:\n",
    "```python\n",
    "target_vocab_to_int['<EOS>']\n",
    "```\n",
    "You can get other word ids using `source_vocab_to_int` and `target_vocab_to_int`."
   ]
  },
  {
   "cell_type": "code",
   "execution_count": 3,
   "metadata": {},
   "outputs": [
    {
     "name": "stdout",
     "output_type": "stream",
     "text": [
      "Tests Passed\n"
     ]
    }
   ],
   "source": [
    "def text_to_ids(source_text, target_text, source_vocab_to_int, target_vocab_to_int):\n",
    "    \"\"\"\n",
    "    Convert source and target text to proper word ids\n",
    "    :param source_text: String that contains all the source text.\n",
    "    :param target_text: String that contains all the target text.\n",
    "    :param source_vocab_to_int: Dictionary to go from the source words to an id\n",
    "    :param target_vocab_to_int: Dictionary to go from the target words to an id\n",
    "    :return: A tuple of lists (source_id_text, target_id_text)\n",
    "    \"\"\"\n",
    "    # TODO: Implement Function\n",
    "    import re\n",
    "    def safe_get(word, vocab_to_int):\n",
    "        return vocab_to_int[word] if word in vocab_to_int else vocab_to_int[\"<UNK>\"]\n",
    "    \n",
    "    def single_sentence_mapper(sentence, vocab_to_int, add_eos):\n",
    "        words = re.split(r'[ \\t\\r\\n\\f]+', sentence.lower())\n",
    "        retval = [safe_get(word, vocab_to_int) for word in words] + ([vocab_to_int[\"<EOS>\"]] if add_eos else [])\n",
    "        \n",
    "        return retval\n",
    "    \n",
    "    def mapper(text, vocab_to_int, add_eos):\n",
    "        # So, first let's split the text up and hand it to a single_sentence_mapper.\n",
    "        return [single_sentence_mapper(x, vocab_to_int, add_eos) for x in text.split('\\n')]\n",
    "    return mapper(source_text, source_vocab_to_int, add_eos=False), mapper(target_text, target_vocab_to_int, add_eos=True)\n",
    "\n",
    "\"\"\"\n",
    "DON'T MODIFY ANYTHING IN THIS CELL THAT IS BELOW THIS LINE\n",
    "\"\"\"\n",
    "tests.test_text_to_ids(text_to_ids)"
   ]
  },
  {
   "cell_type": "markdown",
   "metadata": {},
   "source": [
    "### Preprocess all the data and save it\n",
    "Running the code cell below will preprocess all the data and save it to file."
   ]
  },
  {
   "cell_type": "code",
   "execution_count": 4,
   "metadata": {
    "collapsed": true
   },
   "outputs": [],
   "source": [
    "\"\"\"\n",
    "DON'T MODIFY ANYTHING IN THIS CELL\n",
    "\"\"\"\n",
    "helper.preprocess_and_save_data(source_path, target_path, text_to_ids)"
   ]
  },
  {
   "cell_type": "markdown",
   "metadata": {},
   "source": [
    "# Check Point\n",
    "This is your first checkpoint. If you ever decide to come back to this notebook or have to restart the notebook, you can start from here. The preprocessed data has been saved to disk."
   ]
  },
  {
   "cell_type": "code",
   "execution_count": 5,
   "metadata": {
    "collapsed": true
   },
   "outputs": [],
   "source": [
    "\"\"\"\n",
    "DON'T MODIFY ANYTHING IN THIS CELL\n",
    "\"\"\"\n",
    "import numpy as np\n",
    "import helper\n",
    "import problem_unittests as tests\n",
    "\n",
    "(source_int_text, target_int_text), (source_vocab_to_int, target_vocab_to_int), _ = helper.load_preprocess()"
   ]
  },
  {
   "cell_type": "markdown",
   "metadata": {},
   "source": [
    "### Check the Version of TensorFlow and Access to GPU\n",
    "This will check to make sure you have the correct version of TensorFlow and access to a GPU"
   ]
  },
  {
   "cell_type": "code",
   "execution_count": 6,
   "metadata": {},
   "outputs": [
    {
     "name": "stdout",
     "output_type": "stream",
     "text": [
      "TensorFlow Version: 1.2.1\n",
      "Default GPU Device: /gpu:0\n"
     ]
    }
   ],
   "source": [
    "\"\"\"\n",
    "DON'T MODIFY ANYTHING IN THIS CELL\n",
    "\"\"\"\n",
    "from distutils.version import LooseVersion\n",
    "import warnings\n",
    "import tensorflow as tf\n",
    "from tensorflow.python.layers.core import Dense\n",
    "\n",
    "# Check TensorFlow Version\n",
    "assert LooseVersion(tf.__version__) >= LooseVersion('1.1'), 'Please use TensorFlow version 1.1 or newer'\n",
    "print('TensorFlow Version: {}'.format(tf.__version__))\n",
    "\n",
    "# Check for a GPU\n",
    "if not tf.test.gpu_device_name():\n",
    "    warnings.warn('No GPU found. Please use a GPU to train your neural network.')\n",
    "else:\n",
    "    print('Default GPU Device: {}'.format(tf.test.gpu_device_name()))"
   ]
  },
  {
   "cell_type": "markdown",
   "metadata": {},
   "source": [
    "## Build the Neural Network\n",
    "You'll build the components necessary to build a Sequence-to-Sequence model by implementing the following functions below:\n",
    "- `model_inputs`\n",
    "- `process_decoder_input`\n",
    "- `encoding_layer`\n",
    "- `decoding_layer_train`\n",
    "- `decoding_layer_infer`\n",
    "- `decoding_layer`\n",
    "- `seq2seq_model`\n",
    "\n",
    "### Input\n",
    "Implement the `model_inputs()` function to create TF Placeholders for the Neural Network. It should create the following placeholders:\n",
    "\n",
    "- Input text placeholder named \"input\" using the TF Placeholder name parameter with rank 2.\n",
    "- Targets placeholder with rank 2.\n",
    "- Learning rate placeholder with rank 0.\n",
    "- Keep probability placeholder named \"keep_prob\" using the TF Placeholder name parameter with rank 0.\n",
    "- Target sequence length placeholder named \"target_sequence_length\" with rank 1\n",
    "- Max target sequence length tensor named \"max_target_len\" getting its value from applying tf.reduce_max on the target_sequence_length placeholder. Rank 0.\n",
    "- Source sequence length placeholder named \"source_sequence_length\" with rank 1\n",
    "\n",
    "Return the placeholders in the following the tuple (input, targets, learning rate, keep probability, target sequence length, max target sequence length, source sequence length)"
   ]
  },
  {
   "cell_type": "code",
   "execution_count": 7,
   "metadata": {},
   "outputs": [
    {
     "name": "stdout",
     "output_type": "stream",
     "text": [
      "Tests Passed\n"
     ]
    }
   ],
   "source": [
    "def model_inputs():\n",
    "    \"\"\"\n",
    "    Create TF Placeholders for input, targets, learning rate, and lengths of source and target sequences.\n",
    "    :return: Tuple (input, targets, learning rate, keep probability, target sequence length,\n",
    "    max target sequence length, source sequence length)\n",
    "    \"\"\"\n",
    "    # TODO: Implement Function\n",
    "    inp_ = tf.placeholder(name=\"input\", dtype=tf.int32, shape=(None, None))\n",
    "    targets_ = tf.placeholder(name=\"targets\", dtype=tf.int32, shape=(None, None))\n",
    "    learning_rate_ = tf.placeholder(name=\"learning_rate\", dtype=tf.float32, shape=())\n",
    "    keep_prob_ = tf.placeholder(name=\"keep_prob\", dtype=tf.float32, shape=())\n",
    "    target_sequence_length_ = tf.placeholder(name=\"target_sequence_length\", dtype=tf.int32, shape=(None,))\n",
    "    source_sequence_length_ = tf.placeholder(name=\"source_sequence_length\", dtype=tf.int32, shape=(None,))\n",
    "    max_target_sequence_length = tf.reduce_max(target_sequence_length_, name=\"max_target_len\")\n",
    "    \n",
    "    return inp_, targets_, learning_rate_, keep_prob_, target_sequence_length_, max_target_sequence_length, source_sequence_length_\n",
    "\n",
    "\n",
    "\"\"\"\n",
    "DON'T MODIFY ANYTHING IN THIS CELL THAT IS BELOW THIS LINE\n",
    "\"\"\"\n",
    "tests.test_model_inputs(model_inputs)"
   ]
  },
  {
   "cell_type": "markdown",
   "metadata": {},
   "source": [
    "### Process Decoder Input\n",
    "Implement `process_decoder_input` by removing the last word id from each batch in `target_data` and concat the GO ID to the begining of each batch."
   ]
  },
  {
   "cell_type": "code",
   "execution_count": 8,
   "metadata": {},
   "outputs": [
    {
     "name": "stdout",
     "output_type": "stream",
     "text": [
      "Tests Passed\n"
     ]
    }
   ],
   "source": [
    "def process_decoder_input(target_data, target_vocab_to_int, batch_size):\n",
    "    \"\"\"\n",
    "    Preprocess target data for encoding\n",
    "    :param target_data: Target Placehoder\n",
    "    :param target_vocab_to_int: Dictionary to go from the target words to an id\n",
    "    :param batch_size: Batch Size\n",
    "    :return: Preprocessed target data\n",
    "    \"\"\"\n",
    "    # TODO: Implement Function\n",
    "    # I know this isn't needed by the class, but in\n",
    "    # debugging, I'm trying to see what my network\n",
    "    # looks like in tensorboard.\n",
    "    go = target_vocab_to_int[\"<GO>\"]\n",
    "    gos = tf.cast(tf.fill((batch_size, 1), go), dtype=tf.int32)\n",
    "    target_data = tf.concat((gos, target_data[:,0:-1]), axis=1)\n",
    "    return target_data\n",
    "\n",
    "\"\"\"\n",
    "DON'T MODIFY ANYTHING IN THIS CELL THAT IS BELOW THIS LINE\n",
    "\"\"\"\n",
    "tests.test_process_encoding_input(process_decoder_input)"
   ]
  },
  {
   "cell_type": "markdown",
   "metadata": {},
   "source": [
    "### Encoding\n",
    "Implement `encoding_layer()` to create a Encoder RNN layer:\n",
    " * Embed the encoder input using [`tf.contrib.layers.embed_sequence`](https://www.tensorflow.org/api_docs/python/tf/contrib/layers/embed_sequence)\n",
    " * Construct a [stacked](https://github.com/tensorflow/tensorflow/blob/6947f65a374ebf29e74bb71e36fd82760056d82c/tensorflow/docs_src/tutorials/recurrent.md#stacking-multiple-lstms) [`tf.contrib.rnn.LSTMCell`](https://www.tensorflow.org/api_docs/python/tf/contrib/rnn/LSTMCell) wrapped in a [`tf.contrib.rnn.DropoutWrapper`](https://www.tensorflow.org/api_docs/python/tf/contrib/rnn/DropoutWrapper)\n",
    " * Pass cell and embedded input to [`tf.nn.dynamic_rnn()`](https://www.tensorflow.org/api_docs/python/tf/nn/dynamic_rnn)"
   ]
  },
  {
   "cell_type": "code",
   "execution_count": 9,
   "metadata": {
    "scrolled": false
   },
   "outputs": [
    {
     "name": "stdout",
     "output_type": "stream",
     "text": [
      "Tests Passed\n"
     ]
    }
   ],
   "source": [
    "from imp import reload\n",
    "reload(tests)\n",
    "\n",
    "def encoding_layer(rnn_inputs, rnn_size, num_layers, keep_prob, \n",
    "                   source_sequence_length, source_vocab_size, \n",
    "                   encoding_embedding_size):\n",
    "    \"\"\"\n",
    "    Create encoding layer\n",
    "    :param rnn_inputs: Inputs for the RNN\n",
    "    :param rnn_size: RNN Size\n",
    "    :param num_layers: Number of layers\n",
    "    :param keep_prob: Dropout keep probability\n",
    "    :param source_sequence_length: a list of the lengths of each sequence in the batch\n",
    "    :param source_vocab_size: vocabulary size of source data\n",
    "    :param encoding_embedding_size: embedding size of source data\n",
    "    :return: tuple (RNN output, RNN state)\n",
    "    \"\"\"\n",
    "    # TODO: Implement Function\n",
    "    embed = tf.contrib.layers.embed_sequence(\n",
    "        rnn_inputs,\n",
    "        vocab_size=source_vocab_size,\n",
    "        embed_dim=encoding_embedding_size,\n",
    "        initializer=tf.random_uniform_initializer(minval=-1, maxval=1))\n",
    "    \n",
    "    multi_cell = tf.contrib.rnn.MultiRNNCell([\n",
    "        tf.contrib.rnn.DropoutWrapper(tf.contrib.rnn.LSTMCell(rnn_size, initializer=tf.contrib.layers.xavier_initializer()), output_keep_prob=keep_prob) for _ in range(num_layers)\n",
    "    ])\n",
    "    \n",
    "    output, state = tf.nn.dynamic_rnn(multi_cell, embed, dtype=tf.float32)\n",
    "    \n",
    "    return output, state\n",
    "\n",
    "\"\"\"\n",
    "DON'T MODIFY ANYTHING IN THIS CELL THAT IS BELOW THIS LINE\n",
    "\"\"\"\n",
    "tests.test_encoding_layer(encoding_layer)"
   ]
  },
  {
   "cell_type": "markdown",
   "metadata": {},
   "source": [
    "### Decoding - Training\n",
    "Create a training decoding layer:\n",
    "* Create a [`tf.contrib.seq2seq.TrainingHelper`](https://www.tensorflow.org/api_docs/python/tf/contrib/seq2seq/TrainingHelper) \n",
    "* Create a [`tf.contrib.seq2seq.BasicDecoder`](https://www.tensorflow.org/api_docs/python/tf/contrib/seq2seq/BasicDecoder)\n",
    "* Obtain the decoder outputs from [`tf.contrib.seq2seq.dynamic_decode`](https://www.tensorflow.org/api_docs/python/tf/contrib/seq2seq/dynamic_decode)"
   ]
  },
  {
   "cell_type": "code",
   "execution_count": 10,
   "metadata": {},
   "outputs": [
    {
     "name": "stdout",
     "output_type": "stream",
     "text": [
      "Tests Passed\n"
     ]
    }
   ],
   "source": [
    "\n",
    "def decoding_layer_train(encoder_state, dec_cell, dec_embed_input, \n",
    "                         target_sequence_length, max_summary_length, \n",
    "                         output_layer, keep_prob):\n",
    "    \"\"\"\n",
    "    Create a decoding layer for training\n",
    "    :param encoder_state: Encoder State\n",
    "    :param dec_cell: Decoder RNN Cell\n",
    "    :param dec_embed_input: Decoder embedded input\n",
    "    :param target_sequence_length: The lengths of each sequence in the target batch\n",
    "    :param max_summary_length: The length of the longest sequence in the batch\n",
    "    :param output_layer: Function to apply the output layer\n",
    "    :param keep_prob: Dropout keep probability\n",
    "    :return: BasicDecoderOutput containing training logits and sample_id\n",
    "    \"\"\"\n",
    "    # TODO: Implement Function\n",
    "    training_helper = tf.contrib.seq2seq.TrainingHelper(dec_embed_input, target_sequence_length)\n",
    "    basic_decoder = tf.contrib.seq2seq.BasicDecoder(dec_cell, training_helper, encoder_state, output_layer)\n",
    "    final_outputs, final_state, final_sequence_lengths = tf.contrib.seq2seq.dynamic_decode(basic_decoder, maximum_iterations=max_summary_length)\n",
    "    return final_outputs\n",
    "\n",
    "\n",
    "\n",
    "\"\"\"\n",
    "DON'T MODIFY ANYTHING IN THIS CELL THAT IS BELOW THIS LINE\n",
    "\"\"\"\n",
    "tests.test_decoding_layer_train(decoding_layer_train)"
   ]
  },
  {
   "cell_type": "markdown",
   "metadata": {},
   "source": [
    "### Decoding - Inference\n",
    "Create inference decoder:\n",
    "* Create a [`tf.contrib.seq2seq.GreedyEmbeddingHelper`](https://www.tensorflow.org/api_docs/python/tf/contrib/seq2seq/GreedyEmbeddingHelper)\n",
    "* Create a [`tf.contrib.seq2seq.BasicDecoder`](https://www.tensorflow.org/api_docs/python/tf/contrib/seq2seq/BasicDecoder)\n",
    "* Obtain the decoder outputs from [`tf.contrib.seq2seq.dynamic_decode`](https://www.tensorflow.org/api_docs/python/tf/contrib/seq2seq/dynamic_decode)"
   ]
  },
  {
   "cell_type": "code",
   "execution_count": 11,
   "metadata": {
    "scrolled": true
   },
   "outputs": [
    {
     "name": "stdout",
     "output_type": "stream",
     "text": [
      "Tests Passed\n"
     ]
    }
   ],
   "source": [
    "def decoding_layer_infer(encoder_state, dec_cell, dec_embeddings, start_of_sequence_id,\n",
    "                         end_of_sequence_id, max_target_sequence_length,\n",
    "                         vocab_size, output_layer, batch_size, keep_prob):\n",
    "    \"\"\"\n",
    "    Create a decoding layer for inference\n",
    "    :param encoder_state: Encoder state\n",
    "    :param dec_cell: Decoder RNN Cell\n",
    "    :param dec_embeddings: Decoder embeddings\n",
    "    :param start_of_sequence_id: GO ID\n",
    "    :param end_of_sequence_id: EOS Id\n",
    "    :param max_target_sequence_length: Maximum length of target sequences\n",
    "    :param vocab_size: Size of decoder/target vocabulary\n",
    "    :param decoding_scope: TenorFlow Variable Scope for decoding\n",
    "    :param output_layer: Function to apply the output layer\n",
    "    :param batch_size: Batch size\n",
    "    :param keep_prob: Dropout keep probability\n",
    "    :return: BasicDecoderOutput containing inference logits and sample_id\n",
    "    \"\"\"\n",
    "    # TODO: Implement Function\n",
    "    # What is keep_prob being sent here for?? Am I doing something wrong??\n",
    "    greedy_embedding_helper = tf.contrib.seq2seq.GreedyEmbeddingHelper(dec_embeddings, [start_of_sequence_id] * batch_size, end_of_sequence_id)\n",
    "    basic_decoder = tf.contrib.seq2seq.BasicDecoder(dec_cell, greedy_embedding_helper, encoder_state, output_layer)\n",
    "    final_outputs, final_state, final_sequence_lengths = tf.contrib.seq2seq.dynamic_decode(basic_decoder, maximum_iterations=max_target_sequence_length)\n",
    "    return final_outputs\n",
    "\n",
    "\n",
    "\n",
    "\"\"\"\n",
    "DON'T MODIFY ANYTHING IN THIS CELL THAT IS BELOW THIS LINE\n",
    "\"\"\"\n",
    "tests.test_decoding_layer_infer(decoding_layer_infer)"
   ]
  },
  {
   "cell_type": "markdown",
   "metadata": {},
   "source": [
    "### Build the Decoding Layer\n",
    "Implement `decoding_layer()` to create a Decoder RNN layer.\n",
    "\n",
    "* Embed the target sequences\n",
    "* Construct the decoder LSTM cell (just like you constructed the encoder cell above)\n",
    "* Create an output layer to map the outputs of the decoder to the elements of our vocabulary\n",
    "* Use the your `decoding_layer_train(encoder_state, dec_cell, dec_embed_input, target_sequence_length, max_target_sequence_length, output_layer, keep_prob)` function to get the training logits.\n",
    "* Use your `decoding_layer_infer(encoder_state, dec_cell, dec_embeddings, start_of_sequence_id, end_of_sequence_id, max_target_sequence_length, vocab_size, output_layer, batch_size, keep_prob)` function to get the inference logits.\n",
    "\n",
    "Note: You'll need to use [tf.variable_scope](https://www.tensorflow.org/api_docs/python/tf/variable_scope) to share variables between training and inference."
   ]
  },
  {
   "cell_type": "code",
   "execution_count": 12,
   "metadata": {},
   "outputs": [
    {
     "name": "stdout",
     "output_type": "stream",
     "text": [
      "Tests Passed\n"
     ]
    }
   ],
   "source": [
    "def decoding_layer(dec_input, encoder_state,\n",
    "                   target_sequence_length, max_target_sequence_length,\n",
    "                   rnn_size,\n",
    "                   num_layers, target_vocab_to_int, target_vocab_size,\n",
    "                   batch_size, keep_prob, decoding_embedding_size):\n",
    "    \"\"\"\n",
    "    Create decoding layer\n",
    "    :param dec_input: Decoder input\n",
    "    :param encoder_state: Encoder state\n",
    "    :param target_sequence_length: The lengths of each sequence in the target batch\n",
    "    :param max_target_sequence_length: Maximum length of target sequences\n",
    "    :param rnn_size: RNN Size\n",
    "    :param num_layers: Number of layers\n",
    "    :param target_vocab_to_int: Dictionary to go from the target words to an id\n",
    "    :param target_vocab_size: Size of target vocabulary\n",
    "    :param batch_size: The size of the batch\n",
    "    :param keep_prob: Dropout keep probability\n",
    "    :param decoding_embedding_size: Decoding embedding size\n",
    "    :return: Tuple of (Training BasicDecoderOutput, Inference BasicDecoderOutput)\n",
    "    \"\"\"\n",
    "    # TODO: Implement Function\n",
    "    from tensorflow.python.layers.core import Dense\n",
    "\n",
    "    # dec_input is a batch of _sequences_ that each contain a single vocab_to_int.\n",
    "    dec_embed_input = tf.contrib.layers.embed_sequence(\n",
    "        dec_input,\n",
    "        vocab_size=target_vocab_size,\n",
    "        embed_dim=decoding_embedding_size,\n",
    "        initializer=tf.random_uniform_initializer(minval=-1,maxval=-1)\n",
    "    )\n",
    "\n",
    "    # It is extremely annoying that this has to be done.\n",
    "    # If this isn't done, there's nothing to pass to target_embedding_table below in infer.\n",
    "    with tf.variable_scope(\"EmbedSequence\", reuse=True):\n",
    "        dec_embeddings = tf.get_variable(\"embeddings\")\n",
    "    \n",
    "    dec_cell = tf.contrib.rnn.MultiRNNCell([\n",
    "        tf.contrib.rnn.DropoutWrapper(tf.contrib.rnn.LSTMCell(rnn_size, initializer=tf.contrib.layers.xavier_initializer()), output_keep_prob=keep_prob) for _ in range(num_layers)\n",
    "    ])\n",
    "\n",
    "    output_layer = Dense(target_vocab_size, kernel_initializer=tf.contrib.layers.xavier_initializer())\n",
    "    with tf.variable_scope(\"decode\") as decoding_scope:\n",
    "        train = decoding_layer_train(encoder_state, dec_cell, dec_embed_input, \n",
    "                target_sequence_length, max_target_sequence_length,\n",
    "                output_layer, keep_prob)\n",
    "        decoding_scope.reuse_variables()\n",
    "        infer = decoding_layer_infer(encoder_state, dec_cell, dec_embeddings, target_vocab_to_int[\"<GO>\"],\n",
    "                target_vocab_to_int[\"<EOS>\"], max_target_sequence_length,\n",
    "                target_vocab_size, output_layer, batch_size, keep_prob)\n",
    "    \n",
    "    return train, infer\n",
    "\n",
    "\n",
    "\n",
    "\"\"\"\n",
    "DON'T MODIFY ANYTHING IN THIS CELL THAT IS BELOW THIS LINE\n",
    "\"\"\"\n",
    "tests.test_decoding_layer(decoding_layer)"
   ]
  },
  {
   "cell_type": "markdown",
   "metadata": {},
   "source": [
    "### Build the Neural Network\n",
    "Apply the functions you implemented above to:\n",
    "\n",
    "- Encode the input using your `encoding_layer(rnn_inputs, rnn_size, num_layers, keep_prob,  source_sequence_length, source_vocab_size, encoding_embedding_size)`.\n",
    "- Process target data using your `process_decoder_input(target_data, target_vocab_to_int, batch_size)` function.\n",
    "- Decode the encoded input using your `decoding_layer(dec_input, enc_state, target_sequence_length, max_target_sentence_length, rnn_size, num_layers, target_vocab_to_int, target_vocab_size, batch_size, keep_prob, dec_embedding_size)` function."
   ]
  },
  {
   "cell_type": "code",
   "execution_count": 13,
   "metadata": {},
   "outputs": [
    {
     "name": "stdout",
     "output_type": "stream",
     "text": [
      "Tests Passed\n"
     ]
    }
   ],
   "source": [
    "def seq2seq_model(input_data, target_data, keep_prob, batch_size,\n",
    "                  source_sequence_length, target_sequence_length,\n",
    "                  max_target_sentence_length,\n",
    "                  source_vocab_size, target_vocab_size,\n",
    "                  enc_embedding_size, dec_embedding_size,\n",
    "                  rnn_size, num_layers, target_vocab_to_int):\n",
    "    \"\"\"\n",
    "    Build the Sequence-to-Sequence part of the neural network\n",
    "    :param input_data: Input placeholder\n",
    "    :param target_data: Target placeholder\n",
    "    :param keep_prob: Dropout keep probability placeholder\n",
    "    :param batch_size: Batch Size\n",
    "    :param source_sequence_length: Sequence Lengths of source sequences in the batch\n",
    "    :param target_sequence_length: Sequence Lengths of target sequences in the batch\n",
    "    :param source_vocab_size: Source vocabulary size\n",
    "    :param target_vocab_size: Target vocabulary size\n",
    "    :param enc_embedding_size: Decoder embedding size\n",
    "    :param dec_embedding_size: Encoder embedding size\n",
    "    :param rnn_size: RNN Size\n",
    "    :param num_layers: Number of layers\n",
    "    :param target_vocab_to_int: Dictionary to go from the target words to an id\n",
    "    :return: Tuple of (Training BasicDecoderOutput, Inference BasicDecoderOutput)\n",
    "    \"\"\"\n",
    "    # TODO: Implement Function\n",
    "    _, encoder_state = encoding_layer(input_data, rnn_size, num_layers, keep_prob, \n",
    "                   source_sequence_length, source_vocab_size, \n",
    "                   enc_embedding_size)\n",
    "    target_decoder_input = process_decoder_input(target_data, target_vocab_to_int, batch_size)\n",
    "    train, infer = decoding_layer(target_decoder_input, encoder_state,\n",
    "                   target_sequence_length, max_target_sentence_length,\n",
    "                   rnn_size,\n",
    "                   num_layers, target_vocab_to_int, target_vocab_size,\n",
    "                   batch_size, keep_prob, dec_embedding_size)\n",
    "    return train, infer\n",
    "\n",
    "\n",
    "\"\"\"\n",
    "DON'T MODIFY ANYTHING IN THIS CELL THAT IS BELOW THIS LINE\n",
    "\"\"\"\n",
    "tests.test_seq2seq_model(seq2seq_model)"
   ]
  },
  {
   "cell_type": "markdown",
   "metadata": {},
   "source": [
    "## Neural Network Training\n",
    "### Hyperparameters\n",
    "Tune the following parameters:\n",
    "\n",
    "- Set `epochs` to the number of epochs.\n",
    "- Set `batch_size` to the batch size.\n",
    "- Set `rnn_size` to the size of the RNNs.\n",
    "- Set `num_layers` to the number of layers.\n",
    "- Set `encoding_embedding_size` to the size of the embedding for the encoder.\n",
    "- Set `decoding_embedding_size` to the size of the embedding for the decoder.\n",
    "- Set `learning_rate` to the learning rate.\n",
    "- Set `keep_probability` to the Dropout keep probability\n",
    "- Set `display_step` to state how many steps between each debug output statement"
   ]
  },
  {
   "cell_type": "code",
   "execution_count": 14,
   "metadata": {
    "collapsed": true
   },
   "outputs": [],
   "source": [
    "# Number of Epochs\n",
    "epochs = 15\n",
    "# Batch Size\n",
    "batch_size = 128\n",
    "# RNN Size\n",
    "rnn_size = 256\n",
    "# Number of Layers\n",
    "num_layers = 4\n",
    "# Embedding Size\n",
    "encoding_embedding_size = 256\n",
    "decoding_embedding_size = 256\n",
    "# Learning Rate\n",
    "learning_rate = 0.01\n",
    "# Dropout Keep Probability\n",
    "keep_probability = 0.8\n",
    "display_step = 100"
   ]
  },
  {
   "cell_type": "markdown",
   "metadata": {},
   "source": [
    "### Build the Graph\n",
    "Build the graph using the neural network you implemented."
   ]
  },
  {
   "cell_type": "code",
   "execution_count": 15,
   "metadata": {
    "collapsed": true
   },
   "outputs": [],
   "source": [
    "\"\"\"\n",
    "DON'T MODIFY ANYTHING IN THIS CELL\n",
    "\"\"\"\n",
    "save_path = 'checkpoints/dev'\n",
    "(source_int_text, target_int_text), (source_vocab_to_int, target_vocab_to_int), _ = helper.load_preprocess()\n",
    "max_target_sentence_length = max([len(sentence) for sentence in source_int_text])\n",
    "\n",
    "train_graph = tf.Graph()\n",
    "with train_graph.as_default():\n",
    "    input_data, targets, lr, keep_prob, target_sequence_length, max_target_sequence_length, source_sequence_length = model_inputs()\n",
    "\n",
    "    #sequence_length = tf.placeholder_with_default(max_target_sentence_length, None, name='sequence_length')\n",
    "    input_shape = tf.shape(input_data)\n",
    "\n",
    "    train_logits, inference_logits = seq2seq_model(tf.reverse(input_data, [-1]),\n",
    "                                                   targets,\n",
    "                                                   keep_prob,\n",
    "                                                   batch_size,\n",
    "                                                   source_sequence_length,\n",
    "                                                   target_sequence_length,\n",
    "                                                   max_target_sequence_length,\n",
    "                                                   len(source_vocab_to_int),\n",
    "                                                   len(target_vocab_to_int),\n",
    "                                                   encoding_embedding_size,\n",
    "                                                   decoding_embedding_size,\n",
    "                                                   rnn_size,\n",
    "                                                   num_layers,\n",
    "                                                   target_vocab_to_int)\n",
    "\n",
    "\n",
    "    training_logits = tf.identity(train_logits.rnn_output, name='logits')\n",
    "    inference_logits = tf.identity(inference_logits.sample_id, name='predictions')\n",
    "\n",
    "    masks = tf.sequence_mask(target_sequence_length, max_target_sequence_length, dtype=tf.float32, name='masks')\n",
    "\n",
    "    with tf.name_scope(\"optimization\"):\n",
    "        # Loss function\n",
    "        cost = tf.contrib.seq2seq.sequence_loss(\n",
    "            training_logits,\n",
    "            targets,\n",
    "            masks)\n",
    "\n",
    "        # Optimizer\n",
    "        optimizer = tf.train.AdamOptimizer(lr)\n",
    "\n",
    "        # Gradient Clipping\n",
    "        gradients = optimizer.compute_gradients(cost)\n",
    "        capped_gradients = [(tf.clip_by_value(grad, -1., 1.), var) for grad, var in gradients if grad is not None]\n",
    "        train_op = optimizer.apply_gradients(capped_gradients)\n"
   ]
  },
  {
   "cell_type": "markdown",
   "metadata": {},
   "source": [
    "Batch and pad the source and target sequences"
   ]
  },
  {
   "cell_type": "code",
   "execution_count": 16,
   "metadata": {
    "collapsed": true
   },
   "outputs": [],
   "source": [
    "\"\"\"\n",
    "DON'T MODIFY ANYTHING IN THIS CELL\n",
    "\"\"\"\n",
    "def pad_sentence_batch(sentence_batch, pad_int):\n",
    "    \"\"\"Pad sentences with <PAD> so that each sentence of a batch has the same length\"\"\"\n",
    "    max_sentence = max([len(sentence) for sentence in sentence_batch])\n",
    "    return [sentence + [pad_int] * (max_sentence - len(sentence)) for sentence in sentence_batch]\n",
    "\n",
    "\n",
    "def get_batches(sources, targets, batch_size, source_pad_int, target_pad_int):\n",
    "    \"\"\"Batch targets, sources, and the lengths of their sentences together\"\"\"\n",
    "    for batch_i in range(0, len(sources)//batch_size):\n",
    "        start_i = batch_i * batch_size\n",
    "\n",
    "        # Slice the right amount for the batch\n",
    "        sources_batch = sources[start_i:start_i + batch_size]\n",
    "        targets_batch = targets[start_i:start_i + batch_size]\n",
    "\n",
    "        # Pad\n",
    "        pad_sources_batch = np.array(pad_sentence_batch(sources_batch, source_pad_int))\n",
    "        pad_targets_batch = np.array(pad_sentence_batch(targets_batch, target_pad_int))\n",
    "\n",
    "        # Need the lengths for the _lengths parameters\n",
    "        pad_targets_lengths = []\n",
    "        for target in pad_targets_batch:\n",
    "            pad_targets_lengths.append(len(target))\n",
    "\n",
    "        pad_source_lengths = []\n",
    "        for source in pad_sources_batch:\n",
    "            pad_source_lengths.append(len(source))\n",
    "\n",
    "        yield pad_sources_batch, pad_targets_batch, pad_source_lengths, pad_targets_lengths\n"
   ]
  },
  {
   "cell_type": "markdown",
   "metadata": {},
   "source": [
    "### Train\n",
    "Train the neural network on the preprocessed data. If you have a hard time getting a good loss, check the forms to see if anyone is having the same problem."
   ]
  },
  {
   "cell_type": "code",
   "execution_count": 17,
   "metadata": {
    "scrolled": true
   },
   "outputs": [
    {
     "name": "stdout",
     "output_type": "stream",
     "text": [
      "Epoch   0 Batch  100/1077 - Train Accuracy: 0.3992, Validation Accuracy: 0.4567, Loss: 2.3105\n",
      "Epoch   0 Batch  200/1077 - Train Accuracy: 0.3441, Validation Accuracy: 0.3739, Loss: 2.1194\n",
      "Epoch   0 Batch  300/1077 - Train Accuracy: 0.0576, Validation Accuracy: 0.0533, Loss: 1.5817\n",
      "Epoch   0 Batch  400/1077 - Train Accuracy: 0.0414, Validation Accuracy: 0.0302, Loss: 1.0408\n",
      "Epoch   0 Batch  500/1077 - Train Accuracy: 0.0391, Validation Accuracy: 0.0344, Loss: 0.8022\n",
      "Epoch   0 Batch  600/1077 - Train Accuracy: 0.0279, Validation Accuracy: 0.0270, Loss: 0.6678\n",
      "Epoch   0 Batch  700/1077 - Train Accuracy: 0.0512, Validation Accuracy: 0.0458, Loss: 0.6489\n",
      "Epoch   0 Batch  800/1077 - Train Accuracy: 0.0512, Validation Accuracy: 0.0714, Loss: 0.6165\n",
      "Epoch   0 Batch  900/1077 - Train Accuracy: 0.0617, Validation Accuracy: 0.0898, Loss: 0.6123\n",
      "Epoch   0 Batch 1000/1077 - Train Accuracy: 0.1213, Validation Accuracy: 0.1197, Loss: 0.5061\n",
      "Epoch   1 Batch  100/1077 - Train Accuracy: 0.0996, Validation Accuracy: 0.1232, Loss: 0.5145\n",
      "Epoch   1 Batch  200/1077 - Train Accuracy: 0.2082, Validation Accuracy: 0.2731, Loss: 0.5234\n",
      "Epoch   1 Batch  300/1077 - Train Accuracy: 0.1456, Validation Accuracy: 0.2099, Loss: 0.4914\n",
      "Epoch   1 Batch  400/1077 - Train Accuracy: 0.1488, Validation Accuracy: 0.1634, Loss: 0.4846\n",
      "Epoch   1 Batch  500/1077 - Train Accuracy: 0.1113, Validation Accuracy: 0.1122, Loss: 0.4588\n",
      "Epoch   1 Batch  600/1077 - Train Accuracy: 0.1555, Validation Accuracy: 0.1463, Loss: 0.4431\n",
      "Epoch   1 Batch  700/1077 - Train Accuracy: 0.1375, Validation Accuracy: 0.1186, Loss: 0.4262\n",
      "Epoch   1 Batch  800/1077 - Train Accuracy: 0.0949, Validation Accuracy: 0.1214, Loss: 0.4245\n",
      "Epoch   1 Batch  900/1077 - Train Accuracy: 0.1828, Validation Accuracy: 0.2475, Loss: 0.4058\n",
      "Epoch   1 Batch 1000/1077 - Train Accuracy: 0.1633, Validation Accuracy: 0.1676, Loss: 0.3555\n",
      "Epoch   2 Batch  100/1077 - Train Accuracy: 0.1781, Validation Accuracy: 0.2315, Loss: 0.3633\n",
      "Epoch   2 Batch  200/1077 - Train Accuracy: 0.1609, Validation Accuracy: 0.1793, Loss: 0.3822\n",
      "Epoch   2 Batch  300/1077 - Train Accuracy: 0.1887, Validation Accuracy: 0.2816, Loss: 0.3544\n",
      "Epoch   2 Batch  400/1077 - Train Accuracy: 0.1715, Validation Accuracy: 0.1658, Loss: 0.3522\n",
      "Epoch   2 Batch  500/1077 - Train Accuracy: 0.1621, Validation Accuracy: 0.1502, Loss: 0.3440\n",
      "Epoch   2 Batch  600/1077 - Train Accuracy: 0.2091, Validation Accuracy: 0.2145, Loss: 0.3138\n",
      "Epoch   2 Batch  700/1077 - Train Accuracy: 0.2023, Validation Accuracy: 0.1857, Loss: 0.3121\n",
      "Epoch   2 Batch  800/1077 - Train Accuracy: 0.1469, Validation Accuracy: 0.1570, Loss: 0.2901\n",
      "Epoch   2 Batch  900/1077 - Train Accuracy: 0.2227, Validation Accuracy: 0.2937, Loss: 0.3020\n",
      "Epoch   2 Batch 1000/1077 - Train Accuracy: 0.2504, Validation Accuracy: 0.2415, Loss: 0.2836\n",
      "Epoch   3 Batch  100/1077 - Train Accuracy: 0.1676, Validation Accuracy: 0.2127, Loss: 0.3052\n",
      "Epoch   3 Batch  200/1077 - Train Accuracy: 0.1547, Validation Accuracy: 0.1847, Loss: 0.3061\n",
      "Epoch   3 Batch  300/1077 - Train Accuracy: 0.1801, Validation Accuracy: 0.2525, Loss: 0.2656\n",
      "Epoch   3 Batch  400/1077 - Train Accuracy: 0.1812, Validation Accuracy: 0.1875, Loss: 0.2741\n",
      "Epoch   3 Batch  500/1077 - Train Accuracy: 0.1945, Validation Accuracy: 0.2596, Loss: 0.2697\n",
      "Epoch   3 Batch  600/1077 - Train Accuracy: 0.2355, Validation Accuracy: 0.2422, Loss: 0.2533\n",
      "Epoch   3 Batch  700/1077 - Train Accuracy: 0.2324, Validation Accuracy: 0.2418, Loss: 0.2498\n",
      "Epoch   3 Batch  800/1077 - Train Accuracy: 0.1629, Validation Accuracy: 0.1800, Loss: 0.2419\n",
      "Epoch   3 Batch  900/1077 - Train Accuracy: 0.1570, Validation Accuracy: 0.1772, Loss: 0.2683\n",
      "Epoch   3 Batch 1000/1077 - Train Accuracy: 0.1786, Validation Accuracy: 0.1722, Loss: 0.2228\n",
      "Epoch   4 Batch  100/1077 - Train Accuracy: 0.2242, Validation Accuracy: 0.2557, Loss: 0.2356\n",
      "Epoch   4 Batch  200/1077 - Train Accuracy: 0.1898, Validation Accuracy: 0.2141, Loss: 0.2591\n",
      "Epoch   4 Batch  300/1077 - Train Accuracy: 0.1345, Validation Accuracy: 0.1261, Loss: 0.2355\n",
      "Epoch   4 Batch  400/1077 - Train Accuracy: 0.1535, Validation Accuracy: 0.1708, Loss: 0.2466\n",
      "Epoch   4 Batch  500/1077 - Train Accuracy: 0.1895, Validation Accuracy: 0.2266, Loss: 0.2370\n",
      "Epoch   4 Batch  600/1077 - Train Accuracy: 0.1682, Validation Accuracy: 0.1634, Loss: 0.2276\n",
      "Epoch   4 Batch  700/1077 - Train Accuracy: 0.1648, Validation Accuracy: 0.2067, Loss: 0.2300\n",
      "Epoch   4 Batch  800/1077 - Train Accuracy: 0.1953, Validation Accuracy: 0.2404, Loss: 0.2199\n",
      "Epoch   4 Batch  900/1077 - Train Accuracy: 0.1930, Validation Accuracy: 0.2354, Loss: 0.2116\n",
      "Epoch   4 Batch 1000/1077 - Train Accuracy: 0.2846, Validation Accuracy: 0.3040, Loss: 0.2053\n",
      "Epoch   5 Batch  100/1077 - Train Accuracy: 0.1500, Validation Accuracy: 0.1584, Loss: 0.2098\n",
      "Epoch   5 Batch  200/1077 - Train Accuracy: 0.1824, Validation Accuracy: 0.1783, Loss: 0.2212\n",
      "Epoch   5 Batch  300/1077 - Train Accuracy: 0.1928, Validation Accuracy: 0.2038, Loss: 0.2039\n",
      "Epoch   5 Batch  400/1077 - Train Accuracy: 0.1898, Validation Accuracy: 0.1825, Loss: 0.2191\n",
      "Epoch   5 Batch  500/1077 - Train Accuracy: 0.1793, Validation Accuracy: 0.1882, Loss: 0.2017\n",
      "Epoch   5 Batch  600/1077 - Train Accuracy: 0.1749, Validation Accuracy: 0.1825, Loss: 0.1981\n",
      "Epoch   5 Batch  700/1077 - Train Accuracy: 0.1781, Validation Accuracy: 0.2148, Loss: 0.2036\n",
      "Epoch   5 Batch  800/1077 - Train Accuracy: 0.1645, Validation Accuracy: 0.1808, Loss: 0.1831\n",
      "Epoch   5 Batch  900/1077 - Train Accuracy: 0.2152, Validation Accuracy: 0.2752, Loss: 0.2024\n",
      "Epoch   5 Batch 1000/1077 - Train Accuracy: 0.2359, Validation Accuracy: 0.2440, Loss: 0.1828\n",
      "Epoch   6 Batch  100/1077 - Train Accuracy: 0.1898, Validation Accuracy: 0.2177, Loss: 0.1753\n",
      "Epoch   6 Batch  200/1077 - Train Accuracy: 0.1914, Validation Accuracy: 0.1921, Loss: 0.1874\n",
      "Epoch   6 Batch  300/1077 - Train Accuracy: 0.1826, Validation Accuracy: 0.1875, Loss: 0.1781\n",
      "Epoch   6 Batch  400/1077 - Train Accuracy: 0.2105, Validation Accuracy: 0.2077, Loss: 0.1992\n",
      "Epoch   6 Batch  500/1077 - Train Accuracy: 0.2008, Validation Accuracy: 0.2074, Loss: 0.1784\n",
      "Epoch   6 Batch  600/1077 - Train Accuracy: 0.2009, Validation Accuracy: 0.2085, Loss: 0.1739\n",
      "Epoch   6 Batch  700/1077 - Train Accuracy: 0.2301, Validation Accuracy: 0.2188, Loss: 0.1801\n",
      "Epoch   6 Batch  800/1077 - Train Accuracy: 0.1953, Validation Accuracy: 0.2191, Loss: 0.1651\n",
      "Epoch   6 Batch  900/1077 - Train Accuracy: 0.1652, Validation Accuracy: 0.1825, Loss: 0.1782\n",
      "Epoch   6 Batch 1000/1077 - Train Accuracy: 0.1901, Validation Accuracy: 0.1776, Loss: 0.1610\n",
      "Epoch   7 Batch  100/1077 - Train Accuracy: 0.1871, Validation Accuracy: 0.1971, Loss: 0.1635\n",
      "Epoch   7 Batch  200/1077 - Train Accuracy: 0.2016, Validation Accuracy: 0.1999, Loss: 0.2045\n",
      "Epoch   7 Batch  300/1077 - Train Accuracy: 0.2015, Validation Accuracy: 0.1843, Loss: 0.1772\n",
      "Epoch   7 Batch  400/1077 - Train Accuracy: 0.1992, Validation Accuracy: 0.1957, Loss: 0.1763\n",
      "Epoch   7 Batch  500/1077 - Train Accuracy: 0.2273, Validation Accuracy: 0.2170, Loss: 0.1626\n",
      "Epoch   7 Batch  600/1077 - Train Accuracy: 0.2165, Validation Accuracy: 0.2102, Loss: 0.1691\n",
      "Epoch   7 Batch  700/1077 - Train Accuracy: 0.2203, Validation Accuracy: 0.2198, Loss: 0.1714\n",
      "Epoch   7 Batch  800/1077 - Train Accuracy: 0.1867, Validation Accuracy: 0.1804, Loss: 0.1476\n",
      "Epoch   7 Batch  900/1077 - Train Accuracy: 0.2238, Validation Accuracy: 0.2255, Loss: 0.1684\n",
      "Epoch   7 Batch 1000/1077 - Train Accuracy: 0.2448, Validation Accuracy: 0.2433, Loss: 0.1424\n",
      "Epoch   8 Batch  100/1077 - Train Accuracy: 0.1879, Validation Accuracy: 0.1808, Loss: 0.1565\n",
      "Epoch   8 Batch  200/1077 - Train Accuracy: 0.2145, Validation Accuracy: 0.1953, Loss: 0.1693\n",
      "Epoch   8 Batch  300/1077 - Train Accuracy: 0.2101, Validation Accuracy: 0.2148, Loss: 0.1517\n",
      "Epoch   8 Batch  400/1077 - Train Accuracy: 0.2098, Validation Accuracy: 0.2102, Loss: 0.1643\n",
      "Epoch   8 Batch  500/1077 - Train Accuracy: 0.1902, Validation Accuracy: 0.1772, Loss: 0.1639\n",
      "Epoch   8 Batch  600/1077 - Train Accuracy: 0.1708, Validation Accuracy: 0.1758, Loss: 0.1418\n",
      "Epoch   8 Batch  700/1077 - Train Accuracy: 0.2113, Validation Accuracy: 0.2067, Loss: 0.1545\n",
      "Epoch   8 Batch  800/1077 - Train Accuracy: 0.2023, Validation Accuracy: 0.1957, Loss: 0.1484\n"
     ]
    },
    {
     "name": "stdout",
     "output_type": "stream",
     "text": [
      "Epoch   8 Batch  900/1077 - Train Accuracy: 0.2172, Validation Accuracy: 0.2276, Loss: 0.1552\n",
      "Epoch   8 Batch 1000/1077 - Train Accuracy: 0.2206, Validation Accuracy: 0.2081, Loss: 0.1459\n",
      "Epoch   9 Batch  100/1077 - Train Accuracy: 0.1898, Validation Accuracy: 0.2241, Loss: 0.1482\n",
      "Epoch   9 Batch  200/1077 - Train Accuracy: 0.2316, Validation Accuracy: 0.2383, Loss: 0.1582\n",
      "Epoch   9 Batch  300/1077 - Train Accuracy: 0.2344, Validation Accuracy: 0.2521, Loss: 0.1508\n",
      "Epoch   9 Batch  400/1077 - Train Accuracy: 0.2238, Validation Accuracy: 0.2227, Loss: 0.1512\n",
      "Epoch   9 Batch  500/1077 - Train Accuracy: 0.2125, Validation Accuracy: 0.2234, Loss: 0.1457\n",
      "Epoch   9 Batch  600/1077 - Train Accuracy: 0.2076, Validation Accuracy: 0.2173, Loss: 0.1423\n",
      "Epoch   9 Batch  700/1077 - Train Accuracy: 0.2094, Validation Accuracy: 0.1868, Loss: 0.1413\n",
      "Epoch   9 Batch  800/1077 - Train Accuracy: 0.1828, Validation Accuracy: 0.1950, Loss: 0.1449\n",
      "Epoch   9 Batch  900/1077 - Train Accuracy: 0.1934, Validation Accuracy: 0.1779, Loss: 0.1510\n",
      "Epoch   9 Batch 1000/1077 - Train Accuracy: 0.2035, Validation Accuracy: 0.1982, Loss: 0.1315\n",
      "Epoch  10 Batch  100/1077 - Train Accuracy: 0.1770, Validation Accuracy: 0.2031, Loss: 0.1497\n",
      "Epoch  10 Batch  200/1077 - Train Accuracy: 0.2090, Validation Accuracy: 0.1960, Loss: 0.1686\n",
      "Epoch  10 Batch  300/1077 - Train Accuracy: 0.1846, Validation Accuracy: 0.1953, Loss: 0.1513\n",
      "Epoch  10 Batch  400/1077 - Train Accuracy: 0.2141, Validation Accuracy: 0.1854, Loss: 0.1570\n",
      "Epoch  10 Batch  500/1077 - Train Accuracy: 0.1969, Validation Accuracy: 0.2077, Loss: 0.1596\n",
      "Epoch  10 Batch  600/1077 - Train Accuracy: 0.2299, Validation Accuracy: 0.2198, Loss: 0.1474\n",
      "Epoch  10 Batch  700/1077 - Train Accuracy: 0.2070, Validation Accuracy: 0.2092, Loss: 0.1360\n",
      "Epoch  10 Batch  800/1077 - Train Accuracy: 0.1809, Validation Accuracy: 0.1857, Loss: 0.1281\n",
      "Epoch  10 Batch  900/1077 - Train Accuracy: 0.1969, Validation Accuracy: 0.2003, Loss: 0.1497\n",
      "Epoch  10 Batch 1000/1077 - Train Accuracy: 0.2024, Validation Accuracy: 0.1903, Loss: 0.1349\n",
      "Epoch  11 Batch  100/1077 - Train Accuracy: 0.1867, Validation Accuracy: 0.1896, Loss: 0.1305\n",
      "Epoch  11 Batch  200/1077 - Train Accuracy: 0.2078, Validation Accuracy: 0.2074, Loss: 0.1432\n",
      "Epoch  11 Batch  300/1077 - Train Accuracy: 0.2196, Validation Accuracy: 0.2145, Loss: 0.1421\n",
      "Epoch  11 Batch  400/1077 - Train Accuracy: 0.2098, Validation Accuracy: 0.1907, Loss: 0.1488\n",
      "Epoch  11 Batch  500/1077 - Train Accuracy: 0.1988, Validation Accuracy: 0.2099, Loss: 0.1279\n",
      "Epoch  11 Batch  600/1077 - Train Accuracy: 0.2470, Validation Accuracy: 0.2354, Loss: 0.1324\n",
      "Epoch  11 Batch  700/1077 - Train Accuracy: 0.2160, Validation Accuracy: 0.2134, Loss: 0.1298\n",
      "Epoch  11 Batch  800/1077 - Train Accuracy: 0.2062, Validation Accuracy: 0.2088, Loss: 0.1202\n",
      "Epoch  11 Batch  900/1077 - Train Accuracy: 0.2230, Validation Accuracy: 0.2070, Loss: 0.1367\n",
      "Epoch  11 Batch 1000/1077 - Train Accuracy: 0.2199, Validation Accuracy: 0.2184, Loss: 0.1147\n",
      "Epoch  12 Batch  100/1077 - Train Accuracy: 0.1926, Validation Accuracy: 0.1974, Loss: 0.1438\n",
      "Epoch  12 Batch  200/1077 - Train Accuracy: 0.2008, Validation Accuracy: 0.1694, Loss: 0.1506\n",
      "Epoch  12 Batch  300/1077 - Train Accuracy: 0.2060, Validation Accuracy: 0.1854, Loss: 0.1343\n",
      "Epoch  12 Batch  400/1077 - Train Accuracy: 0.1836, Validation Accuracy: 0.1832, Loss: 0.1418\n",
      "Epoch  12 Batch  500/1077 - Train Accuracy: 0.1852, Validation Accuracy: 0.1946, Loss: 0.1144\n",
      "Epoch  12 Batch  600/1077 - Train Accuracy: 0.2087, Validation Accuracy: 0.2319, Loss: 0.1370\n",
      "Epoch  12 Batch  700/1077 - Train Accuracy: 0.2141, Validation Accuracy: 0.2116, Loss: 0.1169\n",
      "Epoch  12 Batch  800/1077 - Train Accuracy: 0.2000, Validation Accuracy: 0.2170, Loss: 0.1096\n",
      "Epoch  12 Batch  900/1077 - Train Accuracy: 0.2180, Validation Accuracy: 0.2454, Loss: 0.1182\n",
      "Epoch  12 Batch 1000/1077 - Train Accuracy: 0.2578, Validation Accuracy: 0.2457, Loss: 0.1156\n",
      "Epoch  13 Batch  100/1077 - Train Accuracy: 0.2141, Validation Accuracy: 0.2216, Loss: 0.1304\n",
      "Epoch  13 Batch  200/1077 - Train Accuracy: 0.2277, Validation Accuracy: 0.2156, Loss: 0.1284\n",
      "Epoch  13 Batch  300/1077 - Train Accuracy: 0.1706, Validation Accuracy: 0.1765, Loss: 0.1283\n",
      "Epoch  13 Batch  400/1077 - Train Accuracy: 0.2074, Validation Accuracy: 0.1992, Loss: 0.1244\n",
      "Epoch  13 Batch  500/1077 - Train Accuracy: 0.1973, Validation Accuracy: 0.2184, Loss: 0.1299\n",
      "Epoch  13 Batch  600/1077 - Train Accuracy: 0.2232, Validation Accuracy: 0.2315, Loss: 0.1265\n",
      "Epoch  13 Batch  700/1077 - Train Accuracy: 0.2180, Validation Accuracy: 0.2028, Loss: 0.1210\n",
      "Epoch  13 Batch  800/1077 - Train Accuracy: 0.1926, Validation Accuracy: 0.2042, Loss: 0.1219\n",
      "Epoch  13 Batch  900/1077 - Train Accuracy: 0.1977, Validation Accuracy: 0.1992, Loss: 0.1361\n",
      "Epoch  13 Batch 1000/1077 - Train Accuracy: 0.1961, Validation Accuracy: 0.2010, Loss: 0.1149\n",
      "Epoch  14 Batch  100/1077 - Train Accuracy: 0.1566, Validation Accuracy: 0.1548, Loss: 0.1286\n",
      "Epoch  14 Batch  200/1077 - Train Accuracy: 0.1691, Validation Accuracy: 0.1612, Loss: 0.1531\n",
      "Epoch  14 Batch  300/1077 - Train Accuracy: 0.1879, Validation Accuracy: 0.1896, Loss: 0.1199\n",
      "Epoch  14 Batch  400/1077 - Train Accuracy: 0.2004, Validation Accuracy: 0.2017, Loss: 0.1426\n",
      "Epoch  14 Batch  500/1077 - Train Accuracy: 0.1953, Validation Accuracy: 0.1967, Loss: 0.1136\n",
      "Epoch  14 Batch  600/1077 - Train Accuracy: 0.1916, Validation Accuracy: 0.1964, Loss: 0.1042\n",
      "Epoch  14 Batch  700/1077 - Train Accuracy: 0.2195, Validation Accuracy: 0.1886, Loss: 0.1356\n",
      "Epoch  14 Batch  800/1077 - Train Accuracy: 0.1934, Validation Accuracy: 0.1900, Loss: 0.1185\n",
      "Epoch  14 Batch  900/1077 - Train Accuracy: 0.2051, Validation Accuracy: 0.1882, Loss: 0.1480\n",
      "Epoch  14 Batch 1000/1077 - Train Accuracy: 0.1979, Validation Accuracy: 0.2003, Loss: 0.1233\n",
      "Model Trained and Saved\n"
     ]
    }
   ],
   "source": [
    "\"\"\"\n",
    "DON'T MODIFY ANYTHING IN THIS CELL\n",
    "\"\"\"\n",
    "def get_accuracy(target, logits):\n",
    "    \"\"\"\n",
    "    Calculate accuracy\n",
    "    \"\"\"\n",
    "    max_seq = max(target.shape[1], logits.shape[1])\n",
    "    if max_seq - target.shape[1]:\n",
    "        target = np.pad(\n",
    "            target,\n",
    "            [(0,0),(0,max_seq - target.shape[1])],\n",
    "            'constant')\n",
    "    if max_seq - logits.shape[1]:\n",
    "        logits = np.pad(\n",
    "            logits,\n",
    "            [(0,0),(0,max_seq - logits.shape[1])],\n",
    "            'constant')\n",
    "\n",
    "    return np.mean(np.equal(target, logits))\n",
    "\n",
    "# Split data to training and validation sets\n",
    "train_source = source_int_text[batch_size:]\n",
    "train_target = target_int_text[batch_size:]\n",
    "valid_source = source_int_text[:batch_size]\n",
    "valid_target = target_int_text[:batch_size]\n",
    "(valid_sources_batch, valid_targets_batch, valid_sources_lengths, valid_targets_lengths ) = next(get_batches(valid_source,\n",
    "                                                                                                             valid_target,\n",
    "                                                                                                             batch_size,\n",
    "                                                                                                             source_vocab_to_int['<PAD>'],\n",
    "                                                                                                             target_vocab_to_int['<PAD>']))                                                                                                  \n",
    "with tf.Session(graph=train_graph) as sess:\n",
    "    sess.run(tf.global_variables_initializer())\n",
    "    writer = tf.summary.FileWriter(\"/tmp/wtf\", graph=sess.graph)\n",
    "\n",
    "    for epoch_i in range(epochs):\n",
    "        for batch_i, (source_batch, target_batch, sources_lengths, targets_lengths) in enumerate(\n",
    "                get_batches(train_source, train_target, batch_size,\n",
    "                            source_vocab_to_int['<PAD>'],\n",
    "                            target_vocab_to_int['<PAD>'])):\n",
    "\n",
    "            _, loss = sess.run(\n",
    "                [train_op, cost],\n",
    "                {input_data: source_batch,\n",
    "                 targets: target_batch,\n",
    "                 lr: learning_rate,\n",
    "                 target_sequence_length: targets_lengths,\n",
    "                 source_sequence_length: sources_lengths,\n",
    "                 keep_prob: keep_probability})\n",
    "\n",
    "\n",
    "            if batch_i % display_step == 0 and batch_i > 0:\n",
    "\n",
    "\n",
    "                batch_train_logits = sess.run(\n",
    "                    inference_logits,\n",
    "                    {input_data: source_batch,\n",
    "                     source_sequence_length: sources_lengths,\n",
    "                     target_sequence_length: targets_lengths,\n",
    "                     keep_prob: 1.0})\n",
    "\n",
    "\n",
    "                batch_valid_logits = sess.run(\n",
    "                    inference_logits,\n",
    "                    {input_data: valid_sources_batch,\n",
    "                     source_sequence_length: valid_sources_lengths,\n",
    "                     target_sequence_length: valid_targets_lengths,\n",
    "                     keep_prob: 1.0})\n",
    "\n",
    "                train_acc = get_accuracy(target_batch, batch_train_logits)\n",
    "\n",
    "                valid_acc = get_accuracy(valid_targets_batch, batch_valid_logits)\n",
    "\n",
    "                print('Epoch {:>3} Batch {:>4}/{} - Train Accuracy: {:>6.4f}, Validation Accuracy: {:>6.4f}, Loss: {:>6.4f}'\n",
    "                      .format(epoch_i, batch_i, len(source_int_text) // batch_size, train_acc, valid_acc, loss))\n",
    "    writer.close()\n",
    "    # Save Model\n",
    "    saver = tf.train.Saver()\n",
    "    saver.save(sess, save_path)\n",
    "    print('Model Trained and Saved')"
   ]
  },
  {
   "cell_type": "markdown",
   "metadata": {},
   "source": [
    "### Save Parameters\n",
    "Save the `batch_size` and `save_path` parameters for inference."
   ]
  },
  {
   "cell_type": "code",
   "execution_count": 18,
   "metadata": {
    "collapsed": true
   },
   "outputs": [],
   "source": [
    "\"\"\"\n",
    "DON'T MODIFY ANYTHING IN THIS CELL\n",
    "\"\"\"\n",
    "# Save parameters for checkpoint\n",
    "helper.save_params(save_path)"
   ]
  },
  {
   "cell_type": "markdown",
   "metadata": {},
   "source": [
    "# Checkpoint"
   ]
  },
  {
   "cell_type": "code",
   "execution_count": 19,
   "metadata": {
    "collapsed": true
   },
   "outputs": [],
   "source": [
    "\"\"\"\n",
    "DON'T MODIFY ANYTHING IN THIS CELL\n",
    "\"\"\"\n",
    "import tensorflow as tf\n",
    "import numpy as np\n",
    "import helper\n",
    "import problem_unittests as tests\n",
    "\n",
    "_, (source_vocab_to_int, target_vocab_to_int), (source_int_to_vocab, target_int_to_vocab) = helper.load_preprocess()\n",
    "load_path = helper.load_params()"
   ]
  },
  {
   "cell_type": "markdown",
   "metadata": {},
   "source": [
    "## Sentence to Sequence\n",
    "To feed a sentence into the model for translation, you first need to preprocess it.  Implement the function `sentence_to_seq()` to preprocess new sentences.\n",
    "\n",
    "- Convert the sentence to lowercase\n",
    "- Convert words into ids using `vocab_to_int`\n",
    " - Convert words not in the vocabulary, to the `<UNK>` word id."
   ]
  },
  {
   "cell_type": "code",
   "execution_count": 20,
   "metadata": {},
   "outputs": [
    {
     "name": "stdout",
     "output_type": "stream",
     "text": [
      "Tests Passed\n"
     ]
    }
   ],
   "source": [
    "def sentence_to_seq(sentence, vocab_to_int):\n",
    "    \"\"\"\n",
    "    Convert a sentence to a sequence of ids\n",
    "    :param sentence: String\n",
    "    :param vocab_to_int: Dictionary to go from the words to an id\n",
    "    :return: List of word ids\n",
    "    \"\"\"\n",
    "    # TODO: Implement Function\n",
    "    return [vocab_to_int[word] if word in vocab_to_int else vocab_to_int[\"<UNK>\"] for word in sentence.lower().split(' ')]\n",
    "    return None\n",
    "\n",
    "\n",
    "\"\"\"\n",
    "DON'T MODIFY ANYTHING IN THIS CELL THAT IS BELOW THIS LINE\n",
    "\"\"\"\n",
    "tests.test_sentence_to_seq(sentence_to_seq)"
   ]
  },
  {
   "cell_type": "markdown",
   "metadata": {},
   "source": [
    "## Translate\n",
    "This will translate `translate_sentence` from English to French."
   ]
  },
  {
   "cell_type": "code",
   "execution_count": 21,
   "metadata": {},
   "outputs": [
    {
     "name": "stdout",
     "output_type": "stream",
     "text": [
      "INFO:tensorflow:Restoring parameters from checkpoints/dev\n",
      "Input\n",
      "  Word Ids:      [173, 27, 141, 119, 54, 178, 196]\n",
      "  English Words: ['he', 'saw', 'a', 'old', 'yellow', 'truck', '.']\n",
      "\n",
      "Prediction\n",
      "  Word Ids:      [60, 159, 251, 87, 352, 135, 87, 135, 129, 206, 16, 206, 307, 307]\n",
      "  French Words: il traduction aller de rendre visiter de visiter new d' la d' pas pas\n"
     ]
    }
   ],
   "source": [
    "translate_sentence = 'he saw a old yellow truck .'\n",
    "\n",
    "\n",
    "\"\"\"\n",
    "DON'T MODIFY ANYTHING IN THIS CELL\n",
    "\"\"\"\n",
    "translate_sentence = sentence_to_seq(translate_sentence, source_vocab_to_int)\n",
    "\n",
    "loaded_graph = tf.Graph()\n",
    "with tf.Session(graph=loaded_graph) as sess:\n",
    "    # Load saved model\n",
    "    loader = tf.train.import_meta_graph(load_path + '.meta')\n",
    "    loader.restore(sess, load_path)\n",
    "\n",
    "    input_data = loaded_graph.get_tensor_by_name('input:0')\n",
    "    logits = loaded_graph.get_tensor_by_name('predictions:0')\n",
    "    target_sequence_length = loaded_graph.get_tensor_by_name('target_sequence_length:0')\n",
    "    source_sequence_length = loaded_graph.get_tensor_by_name('source_sequence_length:0')\n",
    "    keep_prob = loaded_graph.get_tensor_by_name('keep_prob:0')\n",
    "\n",
    "    translate_logits = sess.run(logits, {input_data: [translate_sentence]*batch_size,\n",
    "                                         target_sequence_length: [len(translate_sentence)*2]*batch_size,\n",
    "                                         source_sequence_length: [len(translate_sentence)]*batch_size,\n",
    "                                         keep_prob: 1.0})[0]\n",
    "\n",
    "print('Input')\n",
    "print('  Word Ids:      {}'.format([i for i in translate_sentence]))\n",
    "print('  English Words: {}'.format([source_int_to_vocab[i] for i in translate_sentence]))\n",
    "\n",
    "print('\\nPrediction')\n",
    "print('  Word Ids:      {}'.format([i for i in translate_logits]))\n",
    "print('  French Words: {}'.format(\" \".join([target_int_to_vocab[i] for i in translate_logits])))\n"
   ]
  },
  {
   "cell_type": "markdown",
   "metadata": {},
   "source": [
    "## Imperfect Translation\n",
    "You might notice that some sentences translate better than others.  Since the dataset you're using only has a vocabulary of 227 English words of the thousands that you use, you're only going to see good results using these words.  For this project, you don't need a perfect translation. However, if you want to create a better translation model, you'll need better data.\n",
    "\n",
    "You can train on the [WMT10 French-English corpus](http://www.statmt.org/wmt10/training-giga-fren.tar).  This dataset has more vocabulary and richer in topics discussed.  However, this will take you days to train, so make sure you've a GPU and the neural network is performing well on dataset we provided.  Just make sure you play with the WMT10 corpus after you've submitted this project.\n",
    "## Submitting This Project\n",
    "When submitting this project, make sure to run all the cells before saving the notebook. Save the notebook file as \"dlnd_language_translation.ipynb\" and save it as a HTML file under \"File\" -> \"Download as\". Include the \"helper.py\" and \"problem_unittests.py\" files in your submission."
   ]
  }
 ],
 "metadata": {
  "anaconda-cloud": {},
  "kernelspec": {
   "display_name": "Python 3",
   "language": "python",
   "name": "python3"
  },
  "language_info": {
   "codemirror_mode": {
    "name": "ipython",
    "version": 3
   },
   "file_extension": ".py",
   "mimetype": "text/x-python",
   "name": "python",
   "nbconvert_exporter": "python",
   "pygments_lexer": "ipython3",
   "version": "3.6.2"
  }
 },
 "nbformat": 4,
 "nbformat_minor": 1
}
